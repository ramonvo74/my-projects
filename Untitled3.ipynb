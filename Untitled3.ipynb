{
 "cells": [
  {
   "cell_type": "code",
   "execution_count": 1,
   "metadata": {
    "collapsed": true
   },
   "outputs": [],
   "source": [
    "import pandas as pd\n",
    "import random\n",
    "import numpy as np\n"
   ]
  },
  {
   "cell_type": "code",
   "execution_count": 2,
   "metadata": {
    "collapsed": true
   },
   "outputs": [],
   "source": [
    "archivo ='baseball.xlsx'"
   ]
  },
  {
   "cell_type": "code",
   "execution_count": 3,
   "metadata": {
    "collapsed": true
   },
   "outputs": [],
   "source": [
    "x1= pd.ExcelFile(archivo)"
   ]
  },
  {
   "cell_type": "code",
   "execution_count": 4,
   "metadata": {},
   "outputs": [
    {
     "name": "stdout",
     "output_type": "stream",
     "text": [
      "['baseball', 'SUBTOTALES', 'Hoja1', 'ESTADÍSTICA']\n"
     ]
    }
   ],
   "source": [
    "print(x1.sheet_names)"
   ]
  },
  {
   "cell_type": "code",
   "execution_count": 6,
   "metadata": {
    "collapsed": true
   },
   "outputs": [],
   "source": [
    "df1 = x1.parse('SUBTOTALES')"
   ]
  },
  {
   "cell_type": "code",
   "execution_count": 7,
   "metadata": {},
   "outputs": [
    {
     "name": "stdout",
     "output_type": "stream",
     "text": [
      "                         Name Team          Position  Height  Weight    Age  \\\n",
      "0              Máximo general  NaN                 0     NaN     NaN    NaN   \n",
      "1          Máx. Adam_Donachie  NaN                 0     NaN     NaN    NaN   \n",
      "2               Adam_Donachie  BAL           Catcher    74.0   180.0  22.99   \n",
      "3              Máx. Paul_Bako  NaN                 0     NaN     NaN    NaN   \n",
      "4                   Paul_Bako  BAL           Catcher    74.0   215.0  34.69   \n",
      "5        Máx. Ramon_Hernandez  NaN                 0     NaN     NaN    NaN   \n",
      "6             Ramon_Hernandez  BAL           Catcher    72.0   210.0  30.78   \n",
      "7           Máx. Kevin_Millar  NaN                 0     NaN     NaN    NaN   \n",
      "8                Kevin_Millar  BAL     First_Baseman    72.0   210.0  35.43   \n",
      "9            Máx. Chris_Gomez  NaN                 0     NaN     NaN    NaN   \n",
      "10                Chris_Gomez  BAL     First_Baseman    73.0   188.0  35.71   \n",
      "11         Máx. Brian_Roberts  NaN                 0     NaN     NaN    NaN   \n",
      "12              Brian_Roberts  BAL    Second_Baseman    69.0   176.0  29.39   \n",
      "13         Máx. Miguel_Tejada  NaN                 0     NaN     NaN    NaN   \n",
      "14              Miguel_Tejada  BAL         Shortstop    69.0   209.0  30.77   \n",
      "15           Máx. Melvin_Mora  NaN                 0     NaN     NaN    NaN   \n",
      "16                Melvin_Mora  BAL     Third_Baseman    71.0   200.0  35.07   \n",
      "17           Máx. Aubrey_Huff  NaN                 0     NaN     NaN    NaN   \n",
      "18                Aubrey_Huff  BAL     Third_Baseman    76.0   231.0  30.19   \n",
      "19            Máx. Adam_Stern  NaN                 0     NaN     NaN    NaN   \n",
      "20                 Adam_Stern  BAL        Outfielder    71.0   180.0  27.05   \n",
      "21       Máx. Jeff_Fiorentino  NaN                 0     NaN     NaN    NaN   \n",
      "22            Jeff_Fiorentino  BAL        Outfielder    73.0   188.0  23.88   \n",
      "23         Máx. Freddie_Bynum  NaN                 0     NaN     NaN    NaN   \n",
      "24              Freddie_Bynum  BAL        Outfielder    73.0   180.0  26.96   \n",
      "25         Máx. Nick_Markakis  NaN                 0     NaN     NaN    NaN   \n",
      "26              Nick_Markakis  BAL        Outfielder    74.0   185.0  23.29   \n",
      "27         Máx. Brandon_Fahey  NaN                 0     NaN     NaN    NaN   \n",
      "28              Brandon_Fahey  BAL        Outfielder    74.0   160.0  26.11   \n",
      "29       Máx. Corey_Patterson  NaN                 0     NaN     NaN    NaN   \n",
      "...                       ...  ...               ...     ...     ...    ...   \n",
      "2001       Máx. Anthony_Reyes  NaN                 0     NaN     NaN    NaN   \n",
      "2002            Anthony_Reyes  STL  Starting_Pitcher    74.0   215.0  25.37   \n",
      "2003       Máx. Ryan_Franklin  NaN                 0     NaN     NaN    NaN   \n",
      "2004            Ryan_Franklin  STL  Starting_Pitcher    75.0   180.0  33.99   \n",
      "2005           Máx. Kip_Wells  NaN                 0     NaN     NaN    NaN   \n",
      "2006                Kip_Wells  STL  Starting_Pitcher    75.0   200.0  29.86   \n",
      "2007     Máx. Chris_Carpenter  NaN                 0     NaN     NaN    NaN   \n",
      "2008          Chris_Carpenter  STL  Starting_Pitcher    78.0   230.0  31.84   \n",
      "2009       Máx. Russ_Springer  NaN                 0     NaN     NaN    NaN   \n",
      "2010            Russ_Springer  STL    Relief_Pitcher    76.0   211.0  38.31   \n",
      "2011  Máx. Jason_Isringhausen  NaN                 0     NaN     NaN    NaN   \n",
      "2012       Jason_Isringhausen  STL    Relief_Pitcher    75.0   230.0  34.48   \n",
      "2013      Máx. Ricardo_Rincon  NaN                 0     NaN     NaN    NaN   \n",
      "2014           Ricardo_Rincon  STL    Relief_Pitcher    69.0   190.0  36.88   \n",
      "2015       Máx. Braden_Looper  NaN                 0     NaN     NaN    NaN   \n",
      "2016            Braden_Looper  STL    Relief_Pitcher    75.0   220.0  32.34   \n",
      "2017        Máx. Randy_Flores  NaN                 0     NaN     NaN    NaN   \n",
      "2018             Randy_Flores  STL    Relief_Pitcher    72.0   180.0  31.58   \n",
      "2019        Máx. Josh_Hancock  NaN                 0     NaN     NaN    NaN   \n",
      "2020             Josh_Hancock  STL    Relief_Pitcher    75.0   205.0  28.89   \n",
      "2021       Máx. Brad_Thompson  NaN                 0     NaN     NaN    NaN   \n",
      "2022            Brad_Thompson  STL    Relief_Pitcher    73.0   190.0  25.08   \n",
      "2023       Máx. Tyler_Johnson  NaN                 0     NaN     NaN    NaN   \n",
      "2024            Tyler_Johnson  STL    Relief_Pitcher    74.0   180.0  25.73   \n",
      "2025      Máx. Chris_Narveson  NaN                 0     NaN     NaN    NaN   \n",
      "2026           Chris_Narveson  STL    Relief_Pitcher    75.0   205.0  25.19   \n",
      "2027       Máx. Randy_Keisler  NaN                 0     NaN     NaN    NaN   \n",
      "2028            Randy_Keisler  STL    Relief_Pitcher    75.0   190.0  31.01   \n",
      "2029         Máx. Josh_Kinney  NaN                 0     NaN     NaN    NaN   \n",
      "2030              Josh_Kinney  STL    Relief_Pitcher    73.0   195.0  27.92   \n",
      "\n",
      "     PosCategory  \n",
      "0            NaN  \n",
      "1            NaN  \n",
      "2        Catcher  \n",
      "3            NaN  \n",
      "4        Catcher  \n",
      "5            NaN  \n",
      "6        Catcher  \n",
      "7            NaN  \n",
      "8      Infielder  \n",
      "9            NaN  \n",
      "10     Infielder  \n",
      "11           NaN  \n",
      "12     Infielder  \n",
      "13           NaN  \n",
      "14     Infielder  \n",
      "15           NaN  \n",
      "16     Infielder  \n",
      "17           NaN  \n",
      "18     Infielder  \n",
      "19           NaN  \n",
      "20    Outfielder  \n",
      "21           NaN  \n",
      "22    Outfielder  \n",
      "23           NaN  \n",
      "24    Outfielder  \n",
      "25           NaN  \n",
      "26    Outfielder  \n",
      "27           NaN  \n",
      "28    Outfielder  \n",
      "29           NaN  \n",
      "...          ...  \n",
      "2001         NaN  \n",
      "2002     Pitcher  \n",
      "2003         NaN  \n",
      "2004     Pitcher  \n",
      "2005         NaN  \n",
      "2006     Pitcher  \n",
      "2007         NaN  \n",
      "2008     Pitcher  \n",
      "2009         NaN  \n",
      "2010     Pitcher  \n",
      "2011         NaN  \n",
      "2012     Pitcher  \n",
      "2013         NaN  \n",
      "2014     Pitcher  \n",
      "2015         NaN  \n",
      "2016     Pitcher  \n",
      "2017         NaN  \n",
      "2018     Pitcher  \n",
      "2019         NaN  \n",
      "2020     Pitcher  \n",
      "2021         NaN  \n",
      "2022     Pitcher  \n",
      "2023         NaN  \n",
      "2024     Pitcher  \n",
      "2025         NaN  \n",
      "2026     Pitcher  \n",
      "2027         NaN  \n",
      "2028     Pitcher  \n",
      "2029         NaN  \n",
      "2030     Pitcher  \n",
      "\n",
      "[2031 rows x 7 columns]\n"
     ]
    }
   ],
   "source": [
    "print(df1)"
   ]
  },
  {
   "cell_type": "code",
   "execution_count": 8,
   "metadata": {
    "collapsed": true
   },
   "outputs": [],
   "source": [
    "df = pd.read_csv('baseball.csv')"
   ]
  },
  {
   "cell_type": "code",
   "execution_count": 9,
   "metadata": {},
   "outputs": [
    {
     "name": "stdout",
     "output_type": "stream",
     "text": [
      "                    Name Team          Position  Height  Weight    Age  \\\n",
      "0          Adam_Donachie  BAL           Catcher      74     180  22.99   \n",
      "1              Paul_Bako  BAL           Catcher      74     215  34.69   \n",
      "2        Ramon_Hernandez  BAL           Catcher      72     210  30.78   \n",
      "3           Kevin_Millar  BAL     First_Baseman      72     210  35.43   \n",
      "4            Chris_Gomez  BAL     First_Baseman      73     188  35.71   \n",
      "5          Brian_Roberts  BAL    Second_Baseman      69     176  29.39   \n",
      "6          Miguel_Tejada  BAL         Shortstop      69     209  30.77   \n",
      "7            Melvin_Mora  BAL     Third_Baseman      71     200  35.07   \n",
      "8            Aubrey_Huff  BAL     Third_Baseman      76     231  30.19   \n",
      "9             Adam_Stern  BAL        Outfielder      71     180  27.05   \n",
      "10       Jeff_Fiorentino  BAL        Outfielder      73     188  23.88   \n",
      "11         Freddie_Bynum  BAL        Outfielder      73     180  26.96   \n",
      "12         Nick_Markakis  BAL        Outfielder      74     185  23.29   \n",
      "13         Brandon_Fahey  BAL        Outfielder      74     160  26.11   \n",
      "14       Corey_Patterson  BAL        Outfielder      69     180  27.55   \n",
      "15            Jay_Payton  BAL        Outfielder      70     185  34.27   \n",
      "16           Erik_Bedard  BAL  Starting_Pitcher      73     189  27.99   \n",
      "17           Hayden_Penn  BAL  Starting_Pitcher      75     185  22.38   \n",
      "18           Adam_Loewen  BAL  Starting_Pitcher      78     219  22.89   \n",
      "19        Daniel_Cabrera  BAL  Starting_Pitcher      79     230  25.76   \n",
      "20        Steve_Trachsel  BAL  Starting_Pitcher      76     205  36.33   \n",
      "21          Jaret_Wright  BAL  Starting_Pitcher      74     230  31.17   \n",
      "22           Kris_Benson  BAL  Starting_Pitcher      76     195  32.31   \n",
      "23      Scott_Williamson  BAL    Relief_Pitcher      72     180  31.03   \n",
      "24          John_Parrish  BAL    Relief_Pitcher      71     192  29.26   \n",
      "25            Danys_Baez  BAL    Relief_Pitcher      75     225  29.47   \n",
      "26         Chad_Bradford  BAL    Relief_Pitcher      77     203  32.46   \n",
      "27          Jamie_Walker  BAL    Relief_Pitcher      74     195  35.67   \n",
      "28          Brian_Burres  BAL    Relief_Pitcher      73     182  25.89   \n",
      "29          Kurt_Birkins  BAL    Relief_Pitcher      74     188  26.55   \n",
      "...                  ...  ...               ...     ...     ...    ...   \n",
      "985          John_Nelson  STL     First_Baseman      73     190  27.99   \n",
      "986        Albert_Pujols  STL     First_Baseman      75     225  27.12   \n",
      "987         Adam_Kennedy  STL    Second_Baseman      73     185  31.14   \n",
      "988          Aaron_Miles  STL    Second_Baseman      67     180  30.21   \n",
      "989       David_Eckstein  STL         Shortstop      67     165  32.11   \n",
      "990          Scott_Rolen  STL     Third_Baseman      76     240  31.91   \n",
      "991        Scott_Spiezio  STL     Third_Baseman      74     220  34.44   \n",
      "992          Jim_Edmonds  STL        Outfielder      73     212  36.68   \n",
      "993           So_Taguchi  STL        Outfielder      70     163  37.66   \n",
      "994     Juan_Encarnacion  STL        Outfielder      75     215  30.98   \n",
      "995       Skip_Schumaker  STL        Outfielder      70     175  27.07   \n",
      "996       John_Rodriguez  STL        Outfielder      72     205  29.11   \n",
      "997         Chris_Duncan  STL        Outfielder      77     210  25.82   \n",
      "998      Adam_Wainwright  STL  Starting_Pitcher      79     205  25.50   \n",
      "999          Mark_Mulder  STL  Starting_Pitcher      78     208  29.57   \n",
      "1000       Anthony_Reyes  STL  Starting_Pitcher      74     215  25.37   \n",
      "1001       Ryan_Franklin  STL  Starting_Pitcher      75     180  33.99   \n",
      "1002           Kip_Wells  STL  Starting_Pitcher      75     200  29.86   \n",
      "1003     Chris_Carpenter  STL  Starting_Pitcher      78     230  31.84   \n",
      "1004       Russ_Springer  STL    Relief_Pitcher      76     211  38.31   \n",
      "1005  Jason_Isringhausen  STL    Relief_Pitcher      75     230  34.48   \n",
      "1006      Ricardo_Rincon  STL    Relief_Pitcher      69     190  36.88   \n",
      "1007       Braden_Looper  STL    Relief_Pitcher      75     220  32.34   \n",
      "1008        Randy_Flores  STL    Relief_Pitcher      72     180  31.58   \n",
      "1009        Josh_Hancock  STL    Relief_Pitcher      75     205  28.89   \n",
      "1010       Brad_Thompson  STL    Relief_Pitcher      73     190  25.08   \n",
      "1011       Tyler_Johnson  STL    Relief_Pitcher      74     180  25.73   \n",
      "1012      Chris_Narveson  STL    Relief_Pitcher      75     205  25.19   \n",
      "1013       Randy_Keisler  STL    Relief_Pitcher      75     190  31.01   \n",
      "1014         Josh_Kinney  STL    Relief_Pitcher      73     195  27.92   \n",
      "\n",
      "     PosCategory  \n",
      "0        Catcher  \n",
      "1        Catcher  \n",
      "2        Catcher  \n",
      "3      Infielder  \n",
      "4      Infielder  \n",
      "5      Infielder  \n",
      "6      Infielder  \n",
      "7      Infielder  \n",
      "8      Infielder  \n",
      "9     Outfielder  \n",
      "10    Outfielder  \n",
      "11    Outfielder  \n",
      "12    Outfielder  \n",
      "13    Outfielder  \n",
      "14    Outfielder  \n",
      "15    Outfielder  \n",
      "16       Pitcher  \n",
      "17       Pitcher  \n",
      "18       Pitcher  \n",
      "19       Pitcher  \n",
      "20       Pitcher  \n",
      "21       Pitcher  \n",
      "22       Pitcher  \n",
      "23       Pitcher  \n",
      "24       Pitcher  \n",
      "25       Pitcher  \n",
      "26       Pitcher  \n",
      "27       Pitcher  \n",
      "28       Pitcher  \n",
      "29       Pitcher  \n",
      "...          ...  \n",
      "985    Infielder  \n",
      "986    Infielder  \n",
      "987    Infielder  \n",
      "988    Infielder  \n",
      "989    Infielder  \n",
      "990    Infielder  \n",
      "991    Infielder  \n",
      "992   Outfielder  \n",
      "993   Outfielder  \n",
      "994   Outfielder  \n",
      "995   Outfielder  \n",
      "996   Outfielder  \n",
      "997   Outfielder  \n",
      "998      Pitcher  \n",
      "999      Pitcher  \n",
      "1000     Pitcher  \n",
      "1001     Pitcher  \n",
      "1002     Pitcher  \n",
      "1003     Pitcher  \n",
      "1004     Pitcher  \n",
      "1005     Pitcher  \n",
      "1006     Pitcher  \n",
      "1007     Pitcher  \n",
      "1008     Pitcher  \n",
      "1009     Pitcher  \n",
      "1010     Pitcher  \n",
      "1011     Pitcher  \n",
      "1012     Pitcher  \n",
      "1013     Pitcher  \n",
      "1014     Pitcher  \n",
      "\n",
      "[1015 rows x 7 columns]\n"
     ]
    }
   ],
   "source": [
    "print(df)"
   ]
  },
  {
   "cell_type": "code",
   "execution_count": 10,
   "metadata": {},
   "outputs": [
    {
     "name": "stdout",
     "output_type": "stream",
     "text": [
      "0 es menor a 12\n",
      "1 es menor a 12\n",
      "2 es menor a 12\n",
      "3 es menor a 12\n",
      "4 es menor a 12\n",
      "5 es menor a 12\n",
      "6 es menor a 12\n",
      "7 es menor a 12\n",
      "8 es menor a 12\n",
      "9 es menor a 12\n",
      "10 es menor a 12\n",
      "11 es menor a 12\n"
     ]
    }
   ],
   "source": [
    "n=0\n",
    "while n<12:\n",
    "    print(n, 'es menor a 12')\n",
    "    n+=1"
   ]
  },
  {
   "cell_type": "code",
   "execution_count": null,
   "metadata": {
    "collapsed": true
   },
   "outputs": [],
   "source": []
  }
 ],
 "metadata": {
  "kernelspec": {
   "display_name": "Python 3",
   "language": "python",
   "name": "python3"
  },
  "language_info": {
   "codemirror_mode": {
    "name": "ipython",
    "version": 3
   },
   "file_extension": ".py",
   "mimetype": "text/x-python",
   "name": "python",
   "nbconvert_exporter": "python",
   "pygments_lexer": "ipython3",
   "version": "3.6.2"
  }
 },
 "nbformat": 4,
 "nbformat_minor": 2
}
